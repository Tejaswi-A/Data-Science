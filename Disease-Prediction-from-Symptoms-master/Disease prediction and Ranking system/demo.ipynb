{
 "cells": [
  {
   "cell_type": "code",
   "execution_count": 5,
   "id": "9006f5c4",
   "metadata": {},
   "outputs": [],
   "source": [
    "# ! pip install gradio\n",
    "# ! pip install spacy"
   ]
  },
  {
   "cell_type": "code",
   "execution_count": 6,
   "id": "ee8a97cd-18d9-451f-8859-52385b36bf90",
   "metadata": {},
   "outputs": [],
   "source": [
    "# Import Dependencies\n",
    "import gradio as gr\n",
    "import pandas as pd\n",
    "import numpy as np\n",
    "from joblib import load\n",
    "import pickle\n",
    "# import nltk\n",
    "# import spacy"
   ]
  },
  {
   "cell_type": "code",
   "execution_count": 7,
   "id": "a34c486f-d26f-46f1-83d0-8cbb7ea8b3a3",
   "metadata": {},
   "outputs": [],
   "source": [
    "# Function to make Inference\n",
    "def predict_disease(symptom_list):\n",
    "    symptoms = {'itching': 0, 'skin_rash': 0, 'nodal_skin_eruptions': 0, 'continuous_sneezing': 0,\n",
    "                'shivering': 0, 'chills': 0, 'joint_pain': 0, 'stomach_pain': 0, 'acidity': 0, 'ulcers_on_tongue': 0,\n",
    "                'muscle_wasting': 0, 'vomiting': 0, 'burning_micturition': 0, 'spotting_ urination': 0, 'fatigue': 0,\n",
    "                'weight_gain': 0, 'anxiety': 0, 'cold_hands_and_feets': 0, 'mood_swings': 0, 'weight_loss': 0,\n",
    "                'restlessness': 0, 'lethargy': 0, 'patches_in_throat': 0, 'irregular_sugar_level': 0, 'cough': 0,\n",
    "                'high_fever': 0, 'sunken_eyes': 0, 'breathlessness': 0, 'sweating': 0, 'dehydration': 0,\n",
    "                'indigestion': 0, 'headache': 0, 'yellowish_skin': 0, 'dark_urine': 0, 'nausea': 0, 'loss_of_appetite': 0,\n",
    "                'pain_behind_the_eyes': 0, 'back_pain': 0, 'constipation': 0, 'abdominal_pain': 0, 'diarrhoea': 0, 'mild_fever': 0,\n",
    "                'yellow_urine': 0, 'yellowing_of_eyes': 0, 'acute_liver_failure': 0, 'fluid_overload': 0, 'swelling_of_stomach': 0,\n",
    "                'swelled_lymph_nodes': 0, 'malaise': 0, 'blurred_and_distorted_vision': 0, 'phlegm': 0, 'throat_irritation': 0,\n",
    "                'redness_of_eyes': 0, 'sinus_pressure': 0, 'runny_nose': 0, 'congestion': 0, 'chest_pain': 0, 'weakness_in_limbs': 0,\n",
    "                'fast_heart_rate': 0, 'pain_during_bowel_movements': 0, 'pain_in_anal_region': 0, 'bloody_stool': 0,\n",
    "                'irritation_in_anus': 0, 'neck_pain': 0, 'dizziness': 0, 'cramps': 0, 'bruising': 0, 'obesity': 0, 'swollen_legs': 0,\n",
    "                'swollen_blood_vessels': 0, 'puffy_face_and_eyes': 0, 'enlarged_thyroid': 0, 'brittle_nails': 0, 'swollen_extremeties': 0,\n",
    "                'excessive_hunger': 0, 'extra_marital_contacts': 0, 'drying_and_tingling_lips': 0, 'slurred_speech': 0,\n",
    "                'knee_pain': 0, 'hip_joint_pain': 0, 'muscle_weakness': 0, 'stiff_neck': 0, 'swelling_joints': 0, 'movement_stiffness': 0,\n",
    "                'spinning_movements': 0, 'loss_of_balance': 0, 'unsteadiness': 0, 'weakness_of_one_body_side': 0, 'loss_of_smell': 0,\n",
    "                'bladder_discomfort': 0, 'foul_smell_of urine': 0, 'continuous_feel_of_urine': 0, 'passage_of_gases': 0, 'internal_itching': 0,\n",
    "                'toxic_look_(typhos)': 0, 'depression': 0, 'irritability': 0, 'muscle_pain': 0, 'altered_sensorium': 0,\n",
    "                'red_spots_over_body': 0, 'belly_pain': 0, 'abnormal_menstruation': 0, 'dischromic _patches': 0, 'watering_from_eyes': 0,\n",
    "                'increased_appetite': 0, 'polyuria': 0, 'family_history': 0, 'mucoid_sputum': 0, 'rusty_sputum': 0, 'lack_of_concentration': 0,\n",
    "                'visual_disturbances': 0, 'receiving_blood_transfusion': 0, 'receiving_unsterile_injections': 0, 'coma': 0,\n",
    "                'stomach_bleeding': 0, 'distention_of_abdomen': 0, 'history_of_alcohol_consumption': 0, 'fluid_overload.1': 0,\n",
    "                'blood_in_sputum': 0, 'prominent_veins_on_calf': 0, 'palpitations': 0, 'painful_walking': 0, 'pus_filled_pimples': 0,\n",
    "                'blackheads': 0, 'scurring': 0, 'skin_peeling': 0, 'silver_like_dusting': 0, 'small_dents_in_nails': 0, 'inflammatory_nails': 0,\n",
    "                'blister': 0, 'red_sore_around_nose': 0, 'yellow_crust_ooze': 0}\n",
    "    \n",
    "    # Set value to 1 for corresponding symptoms\n",
    "    for s in symptom_list:\n",
    "        symptoms[s] = 1\n",
    "    \n",
    "    # Prepare Test Data\n",
    "    df_test = pd.DataFrame(columns=list(symptoms.keys()))\n",
    "    df_test.loc[0] = np.array(list(symptoms.values()))\n",
    "    severity_scores = pd.read_csv('./dataset/severity.csv', header=0)\n",
    "    severity_dict = severity_scores.set_index('Disease')['Severity Index'].to_dict()\n",
    "    # Load pre-trained model\n",
    "    try:\n",
    "        with open('./saved_model/random_forest.pkl', 'rb') as file:  # 'rb' stands for 'read binary'\n",
    "            clf = pickle.load(file)\n",
    "    except Exception as e:\n",
    "        print(\"Failed to load the model:\", e)\n",
    "\n",
    "    class_probabilities = np.array(clf.predict_proba(df_test).flat)  \n",
    "    # Get class labels (diseases names) if you have them in the correct order\n",
    "    print(class_probabilities)\n",
    "    disease_names = clf.classes_  # This depends on your clf\n",
    "\n",
    "    # Load original disease order for chronological tie-breaking\n",
    "    original_order = {disease: idx for idx, disease in enumerate(clf.classes_)}\n",
    "\n",
    "    disease_info = [(disease, prob, severity_dict.get(disease, 0), original_order[disease]) for disease, prob in zip(disease_names, class_probabilities) if prob>0]\n",
    "\n",
    "    ranked_diseases = sorted(disease_info, key=lambda x: (-x[1], -x[2], x[3]))\n",
    "\n",
    "    # Format the output to include both probability and severity\n",
    "    formatted_output = [f\"{disease}: {prob:.2%}\" for disease, prob, severity, _ in ranked_diseases if prob > 0]\n",
    "\n",
    "    result = \"\\n\".join(formatted_output)\n",
    "    # result = \"Predicted possible Diseases List:\\n\" + \"\\n\".join(formatted_output)\n",
    "    return result"
   ]
  },
  {
   "cell_type": "code",
   "execution_count": 8,
   "id": "a6c66d74",
   "metadata": {},
   "outputs": [
    {
     "name": "stdout",
     "output_type": "stream",
     "text": [
      "Running on local URL:  http://127.0.0.1:7861\n",
      "\n",
      "To create a public link, set `share=True` in `launch()`.\n"
     ]
    },
    {
     "data": {
      "text/html": [
       "<div><iframe src=\"http://127.0.0.1:7861/\" width=\"100%\" height=\"500\" allow=\"autoplay; camera; microphone; clipboard-read; clipboard-write;\" frameborder=\"0\" allowfullscreen></iframe></div>"
      ],
      "text/plain": [
       "<IPython.core.display.HTML object>"
      ]
     },
     "metadata": {},
     "output_type": "display_data"
    },
    {
     "data": {
      "text/plain": []
     },
     "execution_count": 8,
     "metadata": {},
     "output_type": "execute_result"
    },
    {
     "name": "stderr",
     "output_type": "stream",
     "text": [
      "C:\\Users\\dhana\\AppData\\Local\\Packages\\PythonSoftwareFoundation.Python.3.11_qbz5n2kfra8p0\\LocalCache\\local-packages\\Python311\\site-packages\\sklearn\\base.py:347: InconsistentVersionWarning: Trying to unpickle estimator DecisionTreeClassifier from version 1.3.2 when using version 1.3.0. This might lead to breaking code or invalid results. Use at your own risk. For more info please refer to:\n",
      "https://scikit-learn.org/stable/model_persistence.html#security-maintainability-limitations\n",
      "  warnings.warn(\n",
      "C:\\Users\\dhana\\AppData\\Local\\Packages\\PythonSoftwareFoundation.Python.3.11_qbz5n2kfra8p0\\LocalCache\\local-packages\\Python311\\site-packages\\sklearn\\base.py:347: InconsistentVersionWarning: Trying to unpickle estimator RandomForestClassifier from version 1.3.2 when using version 1.3.0. This might lead to breaking code or invalid results. Use at your own risk. For more info please refer to:\n",
      "https://scikit-learn.org/stable/model_persistence.html#security-maintainability-limitations\n",
      "  warnings.warn(\n"
     ]
    },
    {
     "name": "stdout",
     "output_type": "stream",
     "text": [
      "[0.  0.  0.2 0.  0.  0.  0.  0.  0.  0.  0.  0.  0.  0.  0.1 0.3 0.  0.\n",
      " 0.  0.  0.  0.  0.  0.  0.  0.  0.  0.1 0.  0.  0.  0.  0.1 0.  0.  0.\n",
      " 0.  0.  0.1 0.1 0. ]\n"
     ]
    }
   ],
   "source": [
    "# Define the CheckboxGroup for symptoms\n",
    "def predict_disease_from_symptom(symptoms):\n",
    "    disease = predict_disease(symptoms)\n",
    "    return f\"Predicted possible Diseases List:\\n {disease}\"\n",
    "    \n",
    "symptoms_checkbox = gr.components.Dropdown(\n",
    "    choices=[\n",
    "        'itching', 'skin_rash', 'nodal_skin_eruptions', 'continuous_sneezing', 'shivering',\n",
    "        'chills', 'joint_pain', 'stomach_pain', 'acidity', 'ulcers_on_tongue', 'muscle_wasting',\n",
    "        'vomiting', 'burning_micturition', 'spotting_urination', 'fatigue', 'weight_gain',\n",
    "        'anxiety', 'cold_hands_and_feets', 'mood_swings', 'weight_loss', 'restlessness', 'lethargy',\n",
    "        'patches_in_throat', 'irregular_sugar_level', 'cough', 'high_fever', 'sunken_eyes',\n",
    "        'breathlessness', 'sweating', 'dehydration', 'indigestion', 'headache', 'yellowish_skin',\n",
    "        'dark_urine', 'nausea', 'loss_of_appetite', 'pain_behind_the_eyes', 'back_pain', 'constipation',\n",
    "        'abdominal_pain', 'diarrhoea', 'mild_fever', 'yellow_urine', 'yellowing_of_eyes',\n",
    "        'acute_liver_failure', 'fluid_overload', 'swelling_of_stomach', 'swelled_lymph_nodes',\n",
    "        'malaise', 'blurred_and_distorted_vision', 'phlegm', 'throat_irritation', 'redness_of_eyes',\n",
    "        'sinus_pressure', 'runny_nose', 'congestion', 'chest_pain', 'weakness_in_limbs', 'fast_heart_rate',\n",
    "        'pain_during_bowel_movements', 'pain_in_anal_region', 'bloody_stool', 'irritation_in_anus',\n",
    "        'neck_pain', 'dizziness', 'cramps', 'bruising', 'obesity', 'swollen_legs', 'swollen_blood_vessels',\n",
    "        'puffy_face_and_eyes', 'enlarged_thyroid', 'brittle_nails', 'swollen_extremeties',\n",
    "        'excessive_hunger', 'extra_marital_contacts', 'drying_and_tingling_lips', 'slurred_speech',\n",
    "        'knee_pain', 'hip_joint_pain', 'muscle_weakness', 'stiff_neck', 'swelling_joints', 'movement_stiffness',\n",
    "        'spinning_movements', 'loss_of_balance', 'unsteadiness', 'weakness_of_one_body_side', 'loss_of_smell',\n",
    "        'bladder_discomfort', 'foul_smell_of urine', 'continuous_feel_of_urine', 'passage_of_gases', 'internal_itching',\n",
    "        'toxic_look_(typhos)', 'depression', 'irritability', 'muscle_pain', 'altered_sensorium', 'red_spots_over_body',\n",
    "        'belly_pain', 'abnormal_menstruation', 'dischromic_patches', 'watering_from_eyes',\n",
    "        'increased_appetite', 'polyuria', 'family_history', 'mucoid_sputum', 'rusty_sputum', 'lack_of_concentration',\n",
    "        'visual_disturbances', 'receiving_blood_transfusion', 'receiving_unsterile_injections', 'coma',\n",
    "        'stomach_bleeding', 'distention_of_abdomen', 'history_of_alcohol_consumption', 'fluid_overload.1',\n",
    "        'blood_in_sputum', 'prominent_veins_on_calf', 'palpitations', 'painful_walking', 'pus_filled_pimples',\n",
    "        'blackheads', 'scurring', 'skin_peeling', 'silver_like_dusting', 'small_dents_in_nails',\n",
    "        'inflammatory_nails', 'blister', 'red_sore_around_nose', 'yellow_crust_ooze'\n",
    "    ],\n",
    "    label=\"Select symptoms:\",\n",
    "    multiselect=True\n",
    ")\n",
    "\n",
    "# nlp = sp acy.load(\"en_core_web_md\")\n",
    "\n",
    "# def nlp_suggest_symptoms(text):\n",
    "#     # Process the text\n",
    "#     doc = nlp(text.lower())\n",
    "#     # Match based on lemmatization or similarity\n",
    "#     suggestions = {s for s in symptoms_list for token in doc if token.lemma_ in s or token.text in s}\n",
    "#     return list(suggestions)\n",
    "\n",
    "# # Input for NLP-based filtering\n",
    "# text_input = gr.inputs.Textbox(label=\"Type to search symptoms:\")\n",
    "\n",
    "# # Dropdown updated by the search\n",
    "# dropdown = gr.outputs.Dropdown(label=\"Select symptoms:\", choices=symptoms_list, type=\"index\", multiselect=True)\n",
    "\n",
    "# # Interface definition\n",
    "# def update_dropdown(query):\n",
    "#     filtered_symptoms = filter_symptoms(query)\n",
    "#     return filtered_symptoms\n",
    "\n",
    "# iface = gr.Interface(\n",
    "#     fn=update_dropdown,\n",
    "#     inputs=text_input,\n",
    "#     outputs=dropdown,\n",
    "#     description=\"Type symptoms in the search box to filter and then select them from the dropdown.\"\n",
    "# )\n",
    "\n",
    "iface = gr.Interface(\n",
    "    fn=predict_disease_from_symptom,\n",
    "    inputs=symptoms_checkbox,\n",
    "    outputs=\"text\",\n",
    "    description=\"\"\"Select symptoms from the list and click submit to get list of possible predicted Diseases in ranking order as the Output.\n",
    "    [NOTE: This app is meant for demo purposes only. Please consult a Doctor if you have any symptoms.]\"\"\"\n",
    ")\n",
    "iface.launch()"
   ]
  }
 ],
 "metadata": {
  "kernelspec": {
   "display_name": "Python 3 (ipykernel)",
   "language": "python",
   "name": "python3"
  },
  "language_info": {
   "codemirror_mode": {
    "name": "ipython",
    "version": 3
   },
   "file_extension": ".py",
   "mimetype": "text/x-python",
   "name": "python",
   "nbconvert_exporter": "python",
   "pygments_lexer": "ipython3",
   "version": "3.11.9"
  }
 },
 "nbformat": 4,
 "nbformat_minor": 5
}
